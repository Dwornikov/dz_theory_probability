{
 "cells": [
  {
   "cell_type": "code",
   "execution_count": 7,
   "metadata": {},
   "outputs": [],
   "source": [
    "from math import factorial as fl"
   ]
  },
  {
   "cell_type": "code",
   "execution_count": 10,
   "metadata": {},
   "outputs": [],
   "source": [
    "def combination(n,k):\n",
    "    return (fl(n)/(fl(n-k)*fl(k)))"
   ]
  },
  {
   "cell_type": "markdown",
   "metadata": {},
   "source": [
    "## Задание 1"
   ]
  },
  {
   "cell_type": "code",
   "execution_count": 11,
   "metadata": {},
   "outputs": [
    {
     "data": {
      "text/plain": [
       "0.048061793700746355"
      ]
     },
     "execution_count": 11,
     "metadata": {},
     "output_type": "execute_result"
    }
   ],
   "source": [
    "n=  100\n",
    "k = 85\n",
    "p = 0.8\n",
    "q = 1 - p\n",
    "result = combination(n,k)* p**k * q** (n-k)\n",
    "result"
   ]
  },
  {
   "cell_type": "markdown",
   "metadata": {},
   "source": [
    "## Задание 2"
   ]
  },
  {
   "cell_type": "code",
   "execution_count": 15,
   "metadata": {},
   "outputs": [
    {
     "name": "stdout",
     "output_type": "stream",
     "text": [
      "Вероятность того чот не перегоит не одна лампочка 0.8647188544855929. Вероятность того что перегорит ровно 2 лампочки 0.2707247150266753\n"
     ]
    }
   ],
   "source": [
    "n = 5000\n",
    "k = 2\n",
    "p = 0.0004\n",
    "q = 1-p\n",
    "result = 1 - q**n\n",
    "resukt1 = combination(n,k) * p**k * q **(n-k)\n",
    "print(f'Вероятность того чот не перегоит не одна лампочка {result}. Вероятность того что перегорит ровно 2 лампочки {resukt1}')"
   ]
  },
  {
   "cell_type": "markdown",
   "metadata": {},
   "source": [
    "## Задание 3"
   ]
  },
  {
   "cell_type": "code",
   "execution_count": 16,
   "metadata": {},
   "outputs": [
    {
     "data": {
      "text/plain": [
       "0.06281178035144776"
      ]
     },
     "execution_count": 16,
     "metadata": {},
     "output_type": "execute_result"
    }
   ],
   "source": [
    "n = 144\n",
    "k = 70\n",
    "p = 0.5\n",
    "q= 0.5\n",
    "result = combination(n,k) * p**k * q**(n-k)\n",
    "result"
   ]
  },
  {
   "cell_type": "markdown",
   "metadata": {},
   "source": [
    "## Задание 4\n",
    "### В первом ящике находится 10 мячей, из которых 7 - белые. Во втором ящике - 11 мячей, из которых 9 белых. Из каждого ящика вытаскивают случайным образом по два мяча. Какова вероятность того, что все мячи белые? Какова вероятность того, что ровно два мяча белые? Какова вероятность того, что хотя бы один мяч белый?"
   ]
  },
  {
   "cell_type": "code",
   "execution_count": 18,
   "metadata": {},
   "outputs": [
    {
     "name": "stdout",
     "output_type": "stream",
     "text": [
      "Вероятность того что все мячи белые 0.3054545454545455\n"
     ]
    }
   ],
   "source": [
    "# Какова вероятность того, что все мячи белые\n",
    "p_1 = combination(10,2)\n",
    "p_2 = combination (7, 2)\n",
    "p12 = p_2 / p_1\n",
    "p3 = combination(11,2)\n",
    "p4= combination(9,2)\n",
    "p34= p4/p3\n",
    "print(f'Вероятность того что все мячи белые {p12*p34}')"
   ]
  },
  {
   "cell_type": "code",
   "execution_count": 20,
   "metadata": {},
   "outputs": [
    {
     "data": {
      "text/plain": [
       "0.20484848484848486"
      ]
     },
     "execution_count": 20,
     "metadata": {},
     "output_type": "execute_result"
    }
   ],
   "source": [
    "# Какова вероятность того, что ровно два мяча белые?\n",
    "p1 = combination(7,2) / combination(10,2)\n",
    "p2 = combination(2,2) / combination (11, 2)\n",
    "p12 = p1*p2\n",
    "p3 = combination(3,2) / combination(10,2)\n",
    "p4 = combination(9,2) / combination(11,2)\n",
    "p34= p3*p4\n",
    "p5 = (combination(7,1)* combination(3,1))/ combination(10,2)\n",
    "p6 = (combination(9,1)* combination(2,1))/ combination(11,2)\n",
    "p56=p5*p6\n",
    "result = p12+p34+p56\n",
    "result"
   ]
  },
  {
   "cell_type": "code",
   "execution_count": 22,
   "metadata": {},
   "outputs": [
    {
     "data": {
      "text/plain": [
       "0.9987878787878788"
      ]
     },
     "execution_count": 22,
     "metadata": {},
     "output_type": "execute_result"
    }
   ],
   "source": [
    "# Какова вероятность того, что хотя бы один мяч белый?\n",
    "result= 1 - combination(3,2) / combination(10,2) * combination(2,2) / combination(11,2)\n",
    "result\n"
   ]
  }
 ],
 "metadata": {
  "kernelspec": {
   "display_name": "Python 3",
   "language": "python",
   "name": "python3"
  },
  "language_info": {
   "codemirror_mode": {
    "name": "ipython",
    "version": 3
   },
   "file_extension": ".py",
   "mimetype": "text/x-python",
   "name": "python",
   "nbconvert_exporter": "python",
   "pygments_lexer": "ipython3",
   "version": "3.11.6"
  }
 },
 "nbformat": 4,
 "nbformat_minor": 2
}
